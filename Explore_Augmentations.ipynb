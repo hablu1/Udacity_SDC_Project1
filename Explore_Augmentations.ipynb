{
  "nbformat": 4,
  "nbformat_minor": 0,
  "metadata": {
    "kernelspec": {
      "display_name": "Python 3",
      "language": "python",
      "name": "python3"
    },
    "language_info": {
      "codemirror_mode": {
        "name": "ipython",
        "version": 3
      },
      "file_extension": ".py",
      "mimetype": "text/x-python",
      "name": "python",
      "nbconvert_exporter": "python",
      "pygments_lexer": "ipython3",
      "version": "3.7.3"
    },
    "colab": {
      "name": "Explore Augmentations.ipynb",
      "provenance": []
    }
  },
  "cells": [
    {
      "cell_type": "code",
      "metadata": {
        "id": "cQSTguS8e9CN"
      },
      "source": [
        "import matplotlib.pyplot as plt\n",
        "import numpy as np\n",
        "from matplotlib.patches import Rectangle\n",
        "from utils import get_train_input"
      ],
      "execution_count": null,
      "outputs": []
    },
    {
      "cell_type": "code",
      "metadata": {
        "id": "-U7jM4Kde6iW"
      },
      "source": [
        "def centering_image(image):\n",
        "    # ssd preprocessing\n",
        "    image += [123.68, 116.779, 103.939]\n",
        "    return image\n",
        " \n",
        "def display_instances(image, bboxes, classes):      \n",
        "    image = centering_image(image)\n",
        "    \n",
        "    fig, ax = plt.subplots(1)\n",
        "    ax.imshow(image.astype(np.uint8))\n",
        "    for bb, cl in zip(bboxes, classes):\n",
        "        y1, x1, y2, x2 = bb*640\n",
        "        rec = Rectangle((x1, y1), x2-x1, y2-y1, facecolor='none', edgecolor=\"r\", linewidth=1)\n",
        "        ax.add_patch(rec)\n",
        "    plt.show()\n",
        "\n",
        "def display_batch(batch):\n",
        "    # get images, bboxes and classes\n",
        "    batched_images = batch[0]['image'].numpy()\n",
        "    batched_bboxes = batch[1]['groundtruth_boxes'].numpy()\n",
        "    batched_classes = batch[1]['groundtruth_classes'].numpy()\n",
        "    num_bboxes = batch[1]['num_groundtruth_boxes'].numpy()\n",
        "    batch_size = batched_images.shape[0]\n",
        "    for idx in range(batch_size):\n",
        "        display_instances(batched_images[idx, ...],\n",
        "                          batched_bboxes[idx, :num_bboxes[idx], :],\n",
        "                          batched_classes[idx, ...])"
      ],
      "execution_count": null,
      "outputs": []
    },
    {
      "cell_type": "code",
      "metadata": {
        "id": "dhbWkRvlfC1l"
      },
      "source": [
        "train_dataset = get_train_input(\"/home/workspace/experiments/reference/pipeline_new.config\")"
      ],
      "execution_count": null,
      "outputs": []
    },
    {
      "cell_type": "code",
      "metadata": {
        "id": "9FGKv_3zfEdA"
      },
      "source": [
        "for batch in train_dataset.take(1):\n",
        "    display_batch(batch)"
      ],
      "execution_count": null,
      "outputs": []
    }
  ]
}